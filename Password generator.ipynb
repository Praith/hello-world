{
 "cells": [
  {
   "cell_type": "code",
   "execution_count": null,
   "metadata": {},
   "outputs": [],
   "source": [
    "#Generator Intro\n",
    "def intro():\n",
    "    print('Welcome to the password generator. Below you will be able to get yourself a random password.')"
   ]
  },
  {
   "cell_type": "code",
   "execution_count": null,
   "metadata": {},
   "outputs": [],
   "source": [
    "#Ask for wanted lengh\n",
    "def lenght_of_password():\n",
    "    len_of_pass = 0\n",
    "    \n",
    "    while len_of_pass < 1 or len_of_pass > 20:\n",
    "    \n",
    "        len_of_pass = int(input('How long do you want your password to be? The maximum is 20: '))\n",
    "        \n",
    "    return len_of_pass"
   ]
  },
  {
   "cell_type": "code",
   "execution_count": null,
   "metadata": {},
   "outputs": [],
   "source": [
    "#Ask if numbers should be included\n",
    "def num_in_pass():\n",
    "    b = True\n",
    "    \n",
    "    while b:\n",
    "        a = input('Do you want numbers to be included in the password? Type either \"Yes\" or \"No\": ')\n",
    "        \n",
    "        if a == 'Yes':\n",
    "            b = False\n",
    "            return True\n",
    "        elif a == 'No':\n",
    "            b = False\n",
    "            return False\n",
    "        else:\n",
    "            continue\n",
    "    "
   ]
  },
  {
   "cell_type": "code",
   "execution_count": null,
   "metadata": {},
   "outputs": [],
   "source": [
    "#Ask for special characters \n",
    "def special_char():\n",
    "    b = True\n",
    "    \n",
    "    while b:\n",
    "        a = input('Do you want special characters to be included in the password? Type either \"Yes\" or \"No\": ')\n",
    "        \n",
    "        if a == 'Yes':\n",
    "            b = False\n",
    "            return True\n",
    "        elif a == 'No':\n",
    "            b = False\n",
    "            return False\n",
    "        else:\n",
    "            continue"
   ]
  },
  {
   "cell_type": "code",
   "execution_count": null,
   "metadata": {},
   "outputs": [],
   "source": [
    "#New Pass?\n",
    "def again():\n",
    "    b = True\n",
    "    while b:\n",
    "        a = input(\"Do you want a new Password? Type either 'Yes' or 'No'\")\n",
    "    \n",
    "        if a == 'Yes':\n",
    "            b = False\n",
    "            return True\n",
    "        elif a == 'No':\n",
    "            b = False\n",
    "            return False\n",
    "        else:\n",
    "            continue\n",
    "    \n",
    "\n"
   ]
  },
  {
   "cell_type": "code",
   "execution_count": null,
   "metadata": {
    "scrolled": true
   },
   "outputs": [],
   "source": [
    "#List if with num and special\n",
    "num_special = list(\"\".join(chr(x) for x in range(32,127)))\n",
    "type(num_special)\n",
    "\n",
    "#list only letters\n",
    "import string\n",
    "letters_upper = list(\"\".join(chr(x) for x in range(65,91)))\n",
    "letters_lower = list(\"\".join(chr(x) for x in range(97,123)))\n",
    "\n",
    "letters_sum = letters_upper + letters_lower\n",
    "\n",
    "#list num + letters\n",
    "num_letters = letters_sum + list(\"\".join(chr(x) for x in range(48,58)))\n",
    "\n",
    "#list letters and sepcial characters\n",
    "special_letters = letters_sum + list(\"\".join(chr(x) for x in range(33,47)))\n"
   ]
  },
  {
   "cell_type": "code",
   "execution_count": null,
   "metadata": {},
   "outputs": [],
   "source": [
    "import random\n",
    "while True: \n",
    "    intro()\n",
    "    password_lst = ['']\n",
    "\n",
    "\n",
    "    check = True\n",
    "\n",
    "    while check:\n",
    "            lenght = lenght_of_password()\n",
    "            nums = num_in_pass()\n",
    "            special = special_char()\n",
    "            \n",
    "\n",
    "            if nums and special:\n",
    "                password = ''.join(random.sample(num_special,lenght))\n",
    "                check = False\n",
    "                print(f\"Your new password is: {password}\")\n",
    "                password_lst.append(password)\n",
    "\n",
    "            elif nums and not special:\n",
    "                password = ''.join(random.sample(num_letters,lenght))\n",
    "                check = False\n",
    "                print(f\"Your new password is: {password}\")\n",
    "                password_lst.append(password)\n",
    "                \n",
    "            elif special and not nums:\n",
    "                password = ''.join(random.sample(special_letters,lenght))\n",
    "                check = False\n",
    "                print(f\"Your new password is: {password}\")\n",
    "                password_lst.append(password)\n",
    "\n",
    "            else:\n",
    "                password = ''.join(random.sample(letters_sum,lenght))\n",
    "                check = False\n",
    "                print(f\"Your new password is: {password}\")\n",
    "                password_lst.append(password)\n",
    "    if password == password_lst[-2]:\n",
    "                print('Your new password is the same as the old one, please pick another one')\n",
    "    elif password != password_lst[-2]:\n",
    "        print('You password is good to go.')\n",
    "        \n",
    "    \n",
    "    if not again():\n",
    "           break\n",
    "\n",
    "\n",
    "\n",
    "\n",
    "    \n",
    "\n",
    "        \n",
    "    \n",
    "    "
   ]
  }
 ],
 "metadata": {
  "kernelspec": {
   "display_name": "Python 3",
   "language": "python",
   "name": "python3"
  },
  "language_info": {
   "codemirror_mode": {
    "name": "ipython",
    "version": 3
   },
   "file_extension": ".py",
   "mimetype": "text/x-python",
   "name": "python",
   "nbconvert_exporter": "python",
   "pygments_lexer": "ipython3",
   "version": "3.8.3"
  }
 },
 "nbformat": 4,
 "nbformat_minor": 4
}
